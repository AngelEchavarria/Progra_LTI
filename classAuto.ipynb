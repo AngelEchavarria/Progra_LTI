{
  "nbformat": 4,
  "nbformat_minor": 0,
  "metadata": {
    "colab": {
      "provenance": []
    },
    "kernelspec": {
      "name": "python3",
      "display_name": "Python 3"
    },
    "language_info": {
      "name": "python"
    }
  },
  "cells": [
    {
      "cell_type": "code",
      "execution_count": 2,
      "metadata": {
        "colab": {
          "base_uri": "https://localhost:8080/"
        },
        "id": "AzbdgVRmC9LS",
        "outputId": "1fc78f7d-17f7-4ed3-f976-ffbdefcd35b7"
      },
      "outputs": [
        {
          "output_type": "stream",
          "name": "stdout",
          "text": [
            "Marca: Toyota, Modelo: Corolla, Año: 2022, Kilometraje: 0 km\n",
            "Conducido 100 km.\n",
            "Marca: Toyota, Modelo: Corolla, Año: 2022, Kilometraje: 100 km\n",
            "La distancia debe ser mayor que 0 para conducir.\n"
          ]
        }
      ],
      "source": [
        "class Auto:\n",
        "    def __init__(self, marca, modelo, año):\n",
        "        self.marca = marca\n",
        "        self.modelo = modelo\n",
        "        self.año = año\n",
        "        self.__kilometraje = 0  # Kilometraje inicial en 0\n",
        "\n",
        "    @property\n",
        "    def kilometraje(self):\n",
        "        return self.__kilometraje\n",
        "\n",
        "    def obtener_informacion(self):\n",
        "        return f\"Marca: {self.marca}, Modelo: {self.modelo}, Año: {self.año}, Kilometraje: {self.__kilometraje} km\"\n",
        "\n",
        "    def conducir(self, distancia):\n",
        "        if distancia > 0:\n",
        "            self.__kilometraje += distancia\n",
        "            print(f\"Conducido {distancia} km.\")\n",
        "        else:\n",
        "            print(\"La distancia debe ser mayor que 0 para conducir.\")\n",
        "\n",
        "\n",
        "# Crear una instancia de la clase Auto\n",
        "mi_auto = Auto(\"Toyota\", \"Corolla\", 2024)\n",
        "\n",
        "\n",
        "# Obtener información del auto\n",
        "print(mi_auto.obtener_informacion())  # Imprimirá la información del auto con kilometraje 0\n",
        "\n",
        "\n",
        "# Conducir el auto\n",
        "mi_auto.conducir(100)\n",
        "print(mi_auto.obtener_informacion())  # Imprimirá la información del auto con kilometraje 100\n",
        "\n",
        "\n",
        "# Intentar conducir con una distancia negativa\n",
        "mi_auto.conducir(-20)  # Imprimirá \"La distancia debe ser mayor que 0 para conducir.\"\n"
      ]
    }
  ]
}