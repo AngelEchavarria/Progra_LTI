{
  "nbformat": 4,
  "nbformat_minor": 0,
  "metadata": {
    "colab": {
      "provenance": []
    },
    "kernelspec": {
      "name": "python3",
      "display_name": "Python 3"
    },
    "language_info": {
      "name": "python"
    }
  },
  "cells": [
    {
      "cell_type": "code",
      "execution_count": 20,
      "metadata": {
        "id": "gexG6YrvdVQI"
      },
      "outputs": [],
      "source": [
        "import pickle\n",
        "\n",
        "nombre_telefono = {\n",
        "    \"Victor\": \"8120451795\",\n",
        "    \"Luis\": \"8155475952\",\n",
        "    \"Estefany\": \"8196321075\",\n",
        "    \"Ana\": \"8184452107\"\n",
        "}\n",
        "\n",
        "agenda_pickle = \"nombre_telefono\"\n",
        "with open (\"agenda.pickle\", \"wb\") as archivo:\n",
        "  pickle.dump(nombre_telefono,archivo)"
      ]
    },
    {
      "cell_type": "code",
      "source": [
        "with open(\"agenda.pickle\", \"rb\") as archivo:\n",
        "    agenda_pickle = pickle.load(archivo)\n",
        "\n",
        "print(agenda_pickle)"
      ],
      "metadata": {
        "colab": {
          "base_uri": "https://localhost:8080/"
        },
        "id": "2NrvECF_fVlS",
        "outputId": "4b94f24c-fb97-445f-f4df-ad7f33416a56"
      },
      "execution_count": 21,
      "outputs": [
        {
          "output_type": "stream",
          "name": "stdout",
          "text": [
            "{'Victor': '8120451795', 'Luis': '8155475952', 'Estefany': '8196321075', 'Ana': '8184452107'}\n"
          ]
        }
      ]
    }
  ]
}